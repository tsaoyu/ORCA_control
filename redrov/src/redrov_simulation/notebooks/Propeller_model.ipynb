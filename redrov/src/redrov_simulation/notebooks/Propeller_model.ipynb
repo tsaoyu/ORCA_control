{
 "cells": [
  {
   "cell_type": "code",
   "execution_count": 1,
   "metadata": {},
   "outputs": [],
   "source": [
    "import pandas as pd"
   ]
  },
  {
   "cell_type": "code",
   "execution_count": 2,
   "metadata": {},
   "outputs": [],
   "source": [
    "propeller_curve = pd.read_excel('./T200-Public-Performance-Data.xlsx', sheet_name='16 V')"
   ]
  },
  {
   "cell_type": "code",
   "execution_count": 3,
   "metadata": {},
   "outputs": [],
   "source": [
    "propeller_curve.columns = (['PWM', 'RPM', 'Current', 'Voltage', 'Power', 'Force kgf','Efficiency'])"
   ]
  },
  {
   "cell_type": "code",
   "execution_count": 4,
   "metadata": {},
   "outputs": [],
   "source": [
    "propeller_curve['Normal Command'] = (propeller_curve['PWM'] - 1500)/400"
   ]
  },
  {
   "cell_type": "code",
   "execution_count": 5,
   "metadata": {},
   "outputs": [],
   "source": [
    "propeller_curve['Force'] = propeller_curve['Force kgf'] * 9.81"
   ]
  },
  {
   "cell_type": "code",
   "execution_count": 6,
   "metadata": {},
   "outputs": [
    {
     "data": {
      "text/html": [
       "<div>\n",
       "<style scoped>\n",
       "    .dataframe tbody tr th:only-of-type {\n",
       "        vertical-align: middle;\n",
       "    }\n",
       "\n",
       "    .dataframe tbody tr th {\n",
       "        vertical-align: top;\n",
       "    }\n",
       "\n",
       "    .dataframe thead th {\n",
       "        text-align: right;\n",
       "    }\n",
       "</style>\n",
       "<table border=\"1\" class=\"dataframe\">\n",
       "  <thead>\n",
       "    <tr style=\"text-align: right;\">\n",
       "      <th></th>\n",
       "      <th>PWM</th>\n",
       "      <th>RPM</th>\n",
       "      <th>Current</th>\n",
       "      <th>Voltage</th>\n",
       "      <th>Power</th>\n",
       "      <th>Force kgf</th>\n",
       "      <th>Efficiency</th>\n",
       "      <th>Normal Command</th>\n",
       "      <th>Force</th>\n",
       "    </tr>\n",
       "  </thead>\n",
       "  <tbody>\n",
       "    <tr>\n",
       "      <th>196</th>\n",
       "      <td>1884</td>\n",
       "      <td>3454.990</td>\n",
       "      <td>22.38</td>\n",
       "      <td>16</td>\n",
       "      <td>358.08</td>\n",
       "      <td>5.075694</td>\n",
       "      <td>14.174750</td>\n",
       "      <td>0.96</td>\n",
       "      <td>49.792563</td>\n",
       "    </tr>\n",
       "    <tr>\n",
       "      <th>197</th>\n",
       "      <td>1888</td>\n",
       "      <td>3493.840</td>\n",
       "      <td>22.81</td>\n",
       "      <td>16</td>\n",
       "      <td>364.96</td>\n",
       "      <td>5.143733</td>\n",
       "      <td>14.093964</td>\n",
       "      <td>0.97</td>\n",
       "      <td>50.460023</td>\n",
       "    </tr>\n",
       "    <tr>\n",
       "      <th>198</th>\n",
       "      <td>1892</td>\n",
       "      <td>3515.950</td>\n",
       "      <td>23.28</td>\n",
       "      <td>16</td>\n",
       "      <td>372.48</td>\n",
       "      <td>5.175485</td>\n",
       "      <td>13.894665</td>\n",
       "      <td>0.98</td>\n",
       "      <td>50.771505</td>\n",
       "    </tr>\n",
       "    <tr>\n",
       "      <th>199</th>\n",
       "      <td>1896</td>\n",
       "      <td>3527.230</td>\n",
       "      <td>23.90</td>\n",
       "      <td>16</td>\n",
       "      <td>382.40</td>\n",
       "      <td>5.220844</td>\n",
       "      <td>13.652835</td>\n",
       "      <td>0.99</td>\n",
       "      <td>51.216479</td>\n",
       "    </tr>\n",
       "    <tr>\n",
       "      <th>200</th>\n",
       "      <td>1900</td>\n",
       "      <td>3533.445</td>\n",
       "      <td>23.83</td>\n",
       "      <td>16</td>\n",
       "      <td>381.28</td>\n",
       "      <td>5.245035</td>\n",
       "      <td>13.756324</td>\n",
       "      <td>1.00</td>\n",
       "      <td>51.453798</td>\n",
       "    </tr>\n",
       "  </tbody>\n",
       "</table>\n",
       "</div>"
      ],
      "text/plain": [
       "      PWM       RPM  Current  Voltage   Power  Force kgf  Efficiency  \\\n",
       "196  1884  3454.990    22.38       16  358.08   5.075694   14.174750   \n",
       "197  1888  3493.840    22.81       16  364.96   5.143733   14.093964   \n",
       "198  1892  3515.950    23.28       16  372.48   5.175485   13.894665   \n",
       "199  1896  3527.230    23.90       16  382.40   5.220844   13.652835   \n",
       "200  1900  3533.445    23.83       16  381.28   5.245035   13.756324   \n",
       "\n",
       "     Normal Command      Force  \n",
       "196            0.96  49.792563  \n",
       "197            0.97  50.460023  \n",
       "198            0.98  50.771505  \n",
       "199            0.99  51.216479  \n",
       "200            1.00  51.453798  "
      ]
     },
     "execution_count": 6,
     "metadata": {},
     "output_type": "execute_result"
    }
   ],
   "source": [
    "propeller_curve.tail()"
   ]
  },
  {
   "cell_type": "code",
   "execution_count": 7,
   "metadata": {},
   "outputs": [],
   "source": [
    "force = propeller_curve['Force'].tolist()"
   ]
  },
  {
   "cell_type": "code",
   "execution_count": 8,
   "metadata": {},
   "outputs": [],
   "source": [
    "command = propeller_curve['Normal Command'].tolist()"
   ]
  },
  {
   "cell_type": "code",
   "execution_count": 9,
   "metadata": {},
   "outputs": [],
   "source": [
    "import numpy as np"
   ]
  },
  {
   "cell_type": "code",
   "execution_count": 58,
   "metadata": {},
   "outputs": [],
   "source": [
    "param = np.polyfit(command, force, 17)"
   ]
  },
  {
   "cell_type": "code",
   "execution_count": 59,
   "metadata": {},
   "outputs": [],
   "source": [
    "import matplotlib.pyplot as plt"
   ]
  },
  {
   "cell_type": "code",
   "execution_count": 60,
   "metadata": {},
   "outputs": [],
   "source": [
    "y = []\n",
    "for x in np.arange(-1, 1, 0.01):\n",
    "    y.append(np.polyval(param, x))"
   ]
  },
  {
   "cell_type": "code",
   "execution_count": 65,
   "metadata": {},
   "outputs": [
    {
     "data": {
      "text/plain": [
       "<matplotlib.legend.Legend at 0x7f42ba71add0>"
      ]
     },
     "execution_count": 65,
     "metadata": {},
     "output_type": "execute_result"
    },
    {
     "data": {
      "image/png": "[encoded data removed]",
      "text/plain": [
       "<Figure size 432x288 with 1 Axes>"
      ]
     },
     "metadata": {
      "needs_background": "light"
     },
     "output_type": "display_data"
    }
   ],
   "source": [
    "fig, ax = plt.subplots()\n",
    "ax.plot(command, force, 'x')\n",
    "ax.plot(np.arange(-1, 1, 0.01), y, label='17-th order fit')\n",
    "fig.legend()"
   ]
  },
  {
   "cell_type": "code",
   "execution_count": 71,
   "metadata": {},
   "outputs": [],
   "source": [
    "param_over_zero = param.copy()"
   ]
  },
  {
   "cell_type": "code",
   "execution_count": 72,
   "metadata": {},
   "outputs": [],
   "source": [
    "param_over_zero[-1] = 0"
   ]
  },
  {
   "cell_type": "code",
   "execution_count": 75,
   "metadata": {},
   "outputs": [],
   "source": [
    "y = []\n",
    "for x in np.arange(-1, 1, 0.01):\n",
    "    y.append(np.polyval(param_over_zero, x))"
   ]
  },
  {
   "cell_type": "code",
   "execution_count": 77,
   "metadata": {},
   "outputs": [
    {
     "data": {
      "text/plain": [
       "<matplotlib.legend.Legend at 0x7f42ba52a650>"
      ]
     },
     "execution_count": 77,
     "metadata": {},
     "output_type": "execute_result"
    },
    {
     "data": {
      "image/png": "[encoded data removed]",
      "text/plain": [
       "<Figure size 432x288 with 1 Axes>"
      ]
     },
     "metadata": {
      "needs_background": "light"
     },
     "output_type": "display_data"
    }
   ],
   "source": [
    "fig, ax = plt.subplots()\n",
    "ax.plot(command, force, 'x')\n",
    "ax.plot(np.arange(-1, 1, 0.01), y, label='17-th order fit, passing zero')\n",
    "fig.legend()"
   ]
  },
  {
   "cell_type": "code",
   "execution_count": 78,
   "metadata": {},
   "outputs": [
    {
     "data": {
      "text/plain": [
       "0.0"
      ]
     },
     "execution_count": 78,
     "metadata": {},
     "output_type": "execute_result"
    }
   ],
   "source": [
    "np.polyval(param_over_zero, 0)"
   ]
  },
  {
   "cell_type": "code",
   "execution_count": 80,
   "metadata": {},
   "outputs": [
    {
     "data": {
      "text/plain": [
       "array([-9.61680578e+03, -6.99048595e+02,  4.43322720e+04,  2.47918407e+03,\n",
       "       -8.51058600e+04, -3.54208066e+03,  8.80005365e+04,  2.63030018e+03,\n",
       "       -5.30120789e+04, -1.10323287e+03,  1.88403735e+04,  2.74935028e+02,\n",
       "       -3.85071008e+03, -4.63403410e+01,  4.54202447e+02,  1.20375096e+01,\n",
       "        3.77929694e+00,  0.00000000e+00])"
      ]
     },
     "execution_count": 80,
     "metadata": {},
     "output_type": "execute_result"
    }
   ],
   "source": [
    "param_over_zero"
   ]
  },
  {
   "cell_type": "code",
   "execution_count": 15,
   "metadata": {},
   "outputs": [],
   "source": [
    "import numpy as np"
   ]
  },
  {
   "cell_type": "code",
   "execution_count": 16,
   "metadata": {},
   "outputs": [],
   "source": [
    "def force_and_moment_h(rotation_angle, tilt_angle, x, y, z):\n",
    "    fx = np.cos(rotation_angle)\n",
    "    fy = -np.sin(rotation_angle)\n",
    "    fz = 0\n",
    "    mx = fz * y - fy * z\n",
    "    my = fx * z - fz * x\n",
    "    mz = fy * x - fx * y\n",
    "    return np.array([fx, fy, fz, mx, my, mz])\n",
    "\n",
    "def force_and_moment_v(rotation_angle, tilt_angle, x, y, z):\n",
    "    fx = 0\n",
    "    fy = 0\n",
    "    fz = np.sin(tilt_angle)\n",
    "    mx = fz * y - fy * z\n",
    "    my = fx * z - fz * x\n",
    "    mz = fy * x - fx * y\n",
    "    return np.array([fx, fy, fz, mx, my, mz])"
   ]
  },
  {
   "cell_type": "code",
   "execution_count": 17,
   "metadata": {},
   "outputs": [
    {
     "data": {
      "text/plain": [
       "array([[ 0.70710678,  0.70710678, -0.70710678, -0.70710678,  0.        ,\n",
       "         0.        ],\n",
       "       [-0.70710678,  0.70710678, -0.70710678,  0.70710678,  0.        ,\n",
       "         0.        ],\n",
       "       [ 0.        ,  0.        ,  0.        ,  0.        , -1.        ,\n",
       "         1.        ],\n",
       "       [ 0.06010408, -0.06010408,  0.06010408, -0.06010408, -0.111     ,\n",
       "        -0.111     ],\n",
       "       [ 0.06010408,  0.06010408, -0.06010408, -0.06010408,  0.        ,\n",
       "         0.        ],\n",
       "       [-0.18879751,  0.18879751,  0.18879751, -0.18879751,  0.        ,\n",
       "         0.        ]])"
      ]
     },
     "execution_count": 17,
     "metadata": {},
     "output_type": "execute_result"
    }
   ],
   "source": [
    "np.array([force_and_moment_h(np.pi/4, 0, 0.156, 0.111, 0.085),\n",
    "         force_and_moment_h(-np.pi/4, 0, 0.156, -0.111, 0.085),\n",
    "         force_and_moment_h(np.pi *3/4, 0, -0.156, 0.111, 0.085),\n",
    "         force_and_moment_h(-np.pi *3/4, 0, -0.156, -0.111, 0.085),\n",
    "         force_and_moment_v(0, -np.pi/2, 0, 0.111, 0),\n",
    "         force_and_moment_v(0, np.pi/2, 0, -0.111, 0)]).T"
   ]
  },
  {
   "cell_type": "code",
   "execution_count": 81,
   "metadata": {},
   "outputs": [],
   "source": [
    "allocation_matrix = np.array([[-1,  1,  1,  0],\n",
    "                              [-1, -1, -1,  0],\n",
    "                              [ 1,  1, -1,  0],\n",
    "                              [ 1, -1,  1,  0],\n",
    "                              [ 0,  0,  0, -1],\n",
    "                              [ 0,  0,  0, -1]])  "
   ]
  },
  {
   "cell_type": "code",
   "execution_count": 85,
   "metadata": {},
   "outputs": [
    {
     "data": {
      "text/plain": [
       "array([-1, -1,  1,  1,  0,  0])"
      ]
     },
     "execution_count": 85,
     "metadata": {},
     "output_type": "execute_result"
    }
   ],
   "source": [
    "np.dot(allocation_matrix, np.array([1,0,0,0]).T)"
   ]
  },
  {
   "cell_type": "code",
   "execution_count": 87,
   "metadata": {},
   "outputs": [
    {
     "data": {
      "text/plain": [
       "array([ 0, -2,  0,  2,  0,  0])"
      ]
     },
     "execution_count": 87,
     "metadata": {},
     "output_type": "execute_result"
    }
   ],
   "source": [
    "np.dot(allocation_matrix, np.array([1,0,1,0]).T)"
   ]
  },
  {
   "cell_type": "code",
   "execution_count": null,
   "metadata": {},
   "outputs": [],
   "source": []
  }
 ],
 "metadata": {
  "kernelspec": {
   "display_name": "jupyros",
   "language": "python",
   "name": "jupyros"
  },
  "language_info": {
   "codemirror_mode": {
    "name": "ipython",
    "version": 2
   },
   "file_extension": ".py",
   "mimetype": "text/x-python",
   "name": "python",
   "nbconvert_exporter": "python",
   "pygments_lexer": "ipython2",
   "version": "2.7.17"
  }
 },
 "nbformat": 4,
 "nbformat_minor": 2
}
